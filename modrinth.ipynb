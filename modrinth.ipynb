{
 "cells": [
  {
   "cell_type": "code",
   "execution_count": null,
   "metadata": {},
   "outputs": [],
   "source": [
    "# Python 3.12.9\n",
    "\n",
    "import requests\n",
    "import json\n",
    "import matplotlib.pyplot as plt\n",
    "import numpy as np\n",
    "\n",
    "BAR_COLORS=[\"khaki\", \"firebrick\", \"darkorange\", \"forestgreen\", \"royalblue\", \"orangered\", \"gold\", \"dodgerblue\", \"darkblue\"]\n",
    "PLOT_COLORS=list(reversed(BAR_COLORS))\n",
    "PLOT_MARKERS=[\"v\", \"^\", \"<\", \">\", \"8\", \"s\", \"p\", \"*\", \"H\"]"
   ]
  },
  {
   "cell_type": "code",
   "execution_count": null,
   "metadata": {},
   "outputs": [],
   "source": [
    "PROJECT_ID=\"socksproxyclient\"\n",
    "MOD_LOADERS=[\"fabric\", \"quilt\"]\n",
    "GAME_VERSIONS=[\"1.16.5\", \"1.18.2\", \"1.19.3\", \"1.19.4\", \"1.20\", \"1.20.1\", \"1.20.2\", \"1.20.3\", \"1.20.4\", \"1.20.5\", \"1.20.6\", \"1.21\", \"1.21.1\", \"1.21.2\", \"1.21.3\", \"1.21.4\", \"1.21.5\"]"
   ]
  },
  {
   "cell_type": "code",
   "execution_count": null,
   "metadata": {},
   "outputs": [],
   "source": [
    "req = requests.get(f\"https://api.modrinth.com/v2/project/{PROJECT_ID}/version?loaders=[{','.join(list(map(lambda v: \"\\\"\" + v + \"\\\"\", MOD_LOADERS)))}]&game_versions=[{','.join(list(map(lambda v: \"\\\"\" + v + \"\\\"\", GAME_VERSIONS)))}]\")\n",
    "\n",
    "if (req.status_code != 200):\n",
    "    print(req.status_code)\n",
    "    print(req.text)\n",
    "    exit(1)\n",
    "\n",
    "print(req.headers)\n",
    "rsp: list = json.loads(req.text)\n",
    "print(rsp)"
   ]
  },
  {
   "cell_type": "code",
   "execution_count": null,
   "metadata": {},
   "outputs": [],
   "source": [
    "publication_hits = {}\n",
    "download_hits = {}\n",
    "\n",
    "discovered_game_versions = set()\n",
    "discovered_mod_loaders = set()\n",
    "\n",
    "for gv in GAME_VERSIONS:\n",
    "    discovered_game_versions.add(gv)\n",
    "    if publication_hits.get(gv) is None:\n",
    "        publication_hits[gv] = {}\n",
    "    if download_hits.get(gv) is None:\n",
    "        download_hits[gv] = {}\n",
    "    \n",
    "    for ml in MOD_LOADERS:\n",
    "        discovered_mod_loaders.add(ml)\n",
    "        if publication_hits[gv].get(ml) is None:\n",
    "            publication_hits[gv][ml] = 0\n",
    "        if download_hits[gv].get(ml) is None:\n",
    "            download_hits[gv][ml] = 0\n",
    "    \n",
    "\n",
    "for item in rsp:\n",
    "    for gv in item[\"game_versions\"]:\n",
    "        if gv not in GAME_VERSIONS:\n",
    "            continue\n",
    "        for ml in item[\"loaders\"]:\n",
    "            if ml not in MOD_LOADERS:\n",
    "                continue\n",
    "            publication_hits[gv][ml] += 1\n",
    "            download_hits[gv][ml] += item[\"downloads\"]\n",
    "\n",
    "print(publication_hits)\n",
    "print(download_hits)\n",
    "\n",
    "discovered_game_versions=sorted(discovered_game_versions)\n",
    "discovered_mod_loaders=sorted(discovered_mod_loaders)"
   ]
  },
  {
   "cell_type": "code",
   "execution_count": null,
   "metadata": {},
   "outputs": [],
   "source": [
    "_figures = []\n",
    "\n",
    "_, _pillars = plt.subplots(figsize=(19.2, 10.8))\n",
    "_lines = _pillars.twinx()\n",
    "\n",
    "_bar_width = 1.0 / len(discovered_mod_loaders) - 0.02\n",
    "_x_bar_positions = [np.arange(len(discovered_game_versions))]\n",
    "for i in range(1, len(discovered_mod_loaders)):\n",
    "    _x_bar_positions.append(_x_bar_positions[i-1] + _bar_width)\n",
    "\n",
    "for i in range(0, len(discovered_mod_loaders)):\n",
    "    _pillar = _pillars.bar(_x_bar_positions[i], [sum([download_hits[gv][ml] for ml in download_hits[gv] if ml == discovered_mod_loaders[i]]) for gv in discovered_game_versions], width=_bar_width, label=f\"{discovered_mod_loaders[i].capitalize()} downloads\", color=BAR_COLORS[i])\n",
    "    _figures.append(_pillar)\n",
    "    _pillars.bar_label(_pillar, label_type=\"edge\", fmt=\"%d\", rotation=-90, fontsize=12)\n",
    "\n",
    "_pillars.set_xlabel(\"Minecraft versions\", fontsize=16)\n",
    "_pillars.set_ylabel(\"Downloads\", fontsize=16)\n",
    "_pillars.set_xticks(ticks=_x_bar_positions[0] - _bar_width / 2, labels=discovered_game_versions, fontsize=16)\n",
    "_pillars.tick_params(axis=\"x\", direction='out', labelrotation=45)\n",
    "_pillars.tick_params(axis=\"both\", labelsize=16)\n",
    "_pillars.ticklabel_format(axis=\"y\", style=\"plain\")\n",
    "_pillars.grid(ls=\"--\", alpha=0.5, color=\"gray\")\n",
    "\n",
    "for i in range(0, len(discovered_mod_loaders)):\n",
    "    _figures.append(_lines.plot(discovered_game_versions, [sum([publication_hits[gv][ml] for ml in publication_hits[gv] if ml == discovered_mod_loaders[i]]) for gv in discovered_game_versions], label=f\"{discovered_mod_loaders[i].capitalize()} publications\", marker=PLOT_MARKERS[i], ls=\"--\", color=PLOT_COLORS[i])[0])\n",
    "\n",
    "_lines.set_ylabel(\"Publications\", fontsize=16)\n",
    "_lines.tick_params(axis=\"y\", labelsize=16)\n",
    "_lines.ticklabel_format(axis=\"y\", style=\"plain\")\n",
    "\n",
    "plt.legend(_figures, [h.get_label() for h in _figures], fontsize=16, loc=\"best\")\n",
    "plt.title(f\"Mod \\\"{PROJECT_ID}\\\" on Modrinth downloads analytics\", fontsize=20)\n",
    "plt.tight_layout()\n",
    "plt.show()\n"
   ]
  }
 ],
 "metadata": {
  "kernelspec": {
   "display_name": "base",
   "language": "python",
   "name": "python3"
  },
  "language_info": {
   "codemirror_mode": {
    "name": "ipython",
    "version": 3
   },
   "file_extension": ".py",
   "mimetype": "text/x-python",
   "name": "python",
   "nbconvert_exporter": "python",
   "pygments_lexer": "ipython3",
   "version": "3.12.9"
  }
 },
 "nbformat": 4,
 "nbformat_minor": 2
}
